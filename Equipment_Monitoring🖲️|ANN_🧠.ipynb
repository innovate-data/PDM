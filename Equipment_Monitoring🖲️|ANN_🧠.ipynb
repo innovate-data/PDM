{
  "metadata": {
    "kernelspec": {
      "name": "python3",
      "display_name": "Python 3",
      "language": "python"
    },
    "language_info": {
      "name": "python",
      "version": "3.10.14",
      "mimetype": "text/x-python",
      "codemirror_mode": {
        "name": "ipython",
        "version": 3
      },
      "pygments_lexer": "ipython3",
      "nbconvert_exporter": "python",
      "file_extension": ".py"
    },
    "kaggle": {
      "accelerator": "none",
      "dataSources": [
        {
          "sourceId": 10125778,
          "sourceType": "datasetVersion",
          "datasetId": 6248517
        }
      ],
      "dockerImageVersionId": 30804,
      "isInternetEnabled": true,
      "language": "python",
      "sourceType": "notebook",
      "isGpuEnabled": false
    },
    "colab": {
      "name": "Equipment Monitoring🖲️|ANN 🧠",
      "provenance": [],
      "include_colab_link": true
    }
  },
  "nbformat_minor": 0,
  "nbformat": 4,
  "cells": [
    {
      "cell_type": "markdown",
      "metadata": {
        "id": "view-in-github",
        "colab_type": "text"
      },
      "source": [
        "<a href=\"https://colab.research.google.com/github/innovate-data/PDM/blob/main/Equipment_Monitoring%F0%9F%96%B2%EF%B8%8F%7CANN_%F0%9F%A7%A0.ipynb\" target=\"_parent\"><img src=\"https://colab.research.google.com/assets/colab-badge.svg\" alt=\"Open In Colab\"/></a>"
      ]
    },
    {
      "source": [
        "# IMPORTANT: RUN THIS CELL IN ORDER TO IMPORT YOUR KAGGLE DATA SOURCES,\n",
        "# THEN FEEL FREE TO DELETE THIS CELL.\n",
        "# NOTE: THIS NOTEBOOK ENVIRONMENT DIFFERS FROM KAGGLE'S PYTHON\n",
        "# ENVIRONMENT SO THERE MAY BE MISSING LIBRARIES USED BY YOUR\n",
        "# NOTEBOOK.\n",
        "import kagglehub\n",
        "dnkumars_industrial_equipment_monitoring_dataset_path = kagglehub.dataset_download('dnkumars/industrial-equipment-monitoring-dataset')\n",
        "\n",
        "print('Data source import complete.')\n"
      ],
      "metadata": {
        "id": "SEAeZsUkri_H"
      },
      "cell_type": "code",
      "outputs": [],
      "execution_count": null
    },
    {
      "cell_type": "markdown",
      "source": [
        "<div align=\"center\" style=\"background-color: #091057; padding: 20px; border-radius: 10px;\">\n",
        "  <h1 style=\"color: #A0D683;\">Loading Libraries</h1>\n",
        "</div>"
      ],
      "metadata": {
        "id": "r4cydT-Wri_L"
      }
    },
    {
      "cell_type": "code",
      "source": [
        "import pandas as pd\n",
        "import numpy as np\n",
        "import folium\n",
        "from folium.plugins import MarkerCluster\n",
        "import plotly.express as px\n",
        "import plotly.graph_objects as go\n",
        "from sklearn.model_selection import train_test_split\n",
        "from sklearn.ensemble import RandomForestClassifier\n",
        "from sklearn.metrics import classification_report, confusion_matrix, roc_auc_score\n",
        "from sklearn.preprocessing import StandardScaler, LabelEncoder\n",
        "from sklearn.cluster import KMeans\n",
        "from sklearn.decomposition import PCA\n",
        "from tensorflow.keras.models import Sequential\n",
        "from tensorflow.keras.layers import Dense,Input\n",
        "from sklearn.ensemble import IsolationForest\n",
        "from IPython.display import IFrame\n",
        "from plotly.offline import plot"
      ],
      "metadata": {
        "trusted": true,
        "execution": {
          "iopub.status.busy": "2024-12-10T12:37:03.656615Z",
          "iopub.execute_input": "2024-12-10T12:37:03.657042Z",
          "iopub.status.idle": "2024-12-10T12:37:03.664264Z",
          "shell.execute_reply.started": "2024-12-10T12:37:03.656991Z",
          "shell.execute_reply": "2024-12-10T12:37:03.662892Z"
        },
        "id": "GDxCb-jWri_L"
      },
      "outputs": [],
      "execution_count": null
    },
    {
      "cell_type": "markdown",
      "source": [
        "<div align=\"center\" style=\"background-color: #77CDFF; padding: 20px; border-radius: 10px;\">\n",
        "  <h1 style=\"color: D9EAFD5;\">Data Loading</h1>\n",
        "</div>"
      ],
      "metadata": {
        "id": "bTO7C-8wri_M"
      }
    },
    {
      "cell_type": "code",
      "source": [
        "data = pd.read_csv(\"/kaggle/input/industrial-equipment-monitoring-dataset/equipment_anomaly_data.csv\")"
      ],
      "metadata": {
        "trusted": true,
        "execution": {
          "iopub.status.busy": "2024-12-10T12:25:08.979989Z",
          "iopub.execute_input": "2024-12-10T12:25:08.980407Z",
          "iopub.status.idle": "2024-12-10T12:25:09.002514Z",
          "shell.execute_reply.started": "2024-12-10T12:25:08.980374Z",
          "shell.execute_reply": "2024-12-10T12:25:09.001407Z"
        },
        "id": "MbzcKV6rri_N"
      },
      "outputs": [],
      "execution_count": null
    },
    {
      "cell_type": "code",
      "source": [
        "data.head()"
      ],
      "metadata": {
        "trusted": true,
        "execution": {
          "iopub.status.busy": "2024-12-10T12:25:09.425456Z",
          "iopub.execute_input": "2024-12-10T12:25:09.425839Z",
          "iopub.status.idle": "2024-12-10T12:25:09.452688Z",
          "shell.execute_reply.started": "2024-12-10T12:25:09.425809Z",
          "shell.execute_reply": "2024-12-10T12:25:09.451661Z"
        },
        "id": "NQJmTkxJri_N"
      },
      "outputs": [],
      "execution_count": null
    },
    {
      "cell_type": "code",
      "source": [
        "data.isnull().sum()"
      ],
      "metadata": {
        "trusted": true,
        "execution": {
          "iopub.status.busy": "2024-12-10T12:25:11.071167Z",
          "iopub.execute_input": "2024-12-10T12:25:11.071593Z",
          "iopub.status.idle": "2024-12-10T12:25:11.081681Z",
          "shell.execute_reply.started": "2024-12-10T12:25:11.071556Z",
          "shell.execute_reply": "2024-12-10T12:25:11.080715Z"
        },
        "id": "4H6MrUd0ri_O"
      },
      "outputs": [],
      "execution_count": null
    },
    {
      "cell_type": "markdown",
      "source": [
        "<div align=\"center\" style=\"background-color: #72BF78; padding: 20px; border-radius: 10px;\">\n",
        "  <h1 style=\"color: #433878;\">Exploratory Data Analysis</h1>\n",
        "\n",
        "</div>"
      ],
      "metadata": {
        "id": "1JL7AL-1ri_O"
      }
    },
    {
      "cell_type": "markdown",
      "source": [
        "## Map"
      ],
      "metadata": {
        "id": "4KcTDqR5ri_P"
      }
    },
    {
      "cell_type": "code",
      "source": [
        "city_coordinates = {\n",
        "    \"New York\": [40.7128, -74.0060],\n",
        "    \"Houston\": [29.7604, -95.3698],\n",
        "    \"Chicago\": [41.8781, -87.6298],\n",
        "    \"San Francisco\": [37.7749, -122.4194],\n",
        "    \"Atlanta\": [33.7490, -84.3880]\n",
        "}\n",
        "data[\"city\"] = data[\"location\"]\n",
        "data[\"latitude\"] = data[\"city\"].map(lambda x: city_coordinates[x][0])\n",
        "data[\"longitude\"] = data[\"city\"].map(lambda x: city_coordinates[x][1])\n",
        "m = folium.Map(location=[37.0902, -95.7129], zoom_start=4)\n",
        "marker_cluster = MarkerCluster().add_to(m)\n",
        "for i, row in data.iterrows():\n",
        "    folium.Marker(\n",
        "        location=[row[\"latitude\"], row[\"longitude\"]],\n",
        "        popup=f\"City: {row['city']}, Equipment: {row['equipment']}\"\n",
        "    ).add_to(marker_cluster)\n",
        "\n",
        "m"
      ],
      "metadata": {
        "trusted": true,
        "execution": {
          "iopub.status.busy": "2024-12-10T12:27:04.394348Z",
          "iopub.execute_input": "2024-12-10T12:27:04.394754Z",
          "iopub.status.idle": "2024-12-10T12:27:14.507563Z",
          "shell.execute_reply.started": "2024-12-10T12:27:04.394722Z",
          "shell.execute_reply": "2024-12-10T12:27:14.505607Z"
        },
        "id": "Xm-glX8Fri_P"
      },
      "outputs": [],
      "execution_count": null
    },
    {
      "cell_type": "markdown",
      "source": [
        "## Univariate Analysis"
      ],
      "metadata": {
        "id": "qxipEhk-ri_Q"
      }
    },
    {
      "cell_type": "code",
      "source": [
        "fig1 = px.histogram(data, x=\"temperature\", title=\"Temperature Distribution\")\n",
        "filename=\"hist1.html\"\n",
        "plot(fig1, filename=filename, auto_open=False)\n",
        "display(IFrame(filename, width=800, height=600))"
      ],
      "metadata": {
        "trusted": true,
        "execution": {
          "iopub.status.busy": "2024-12-10T12:28:33.463176Z",
          "iopub.execute_input": "2024-12-10T12:28:33.463543Z",
          "iopub.status.idle": "2024-12-10T12:28:33.598257Z",
          "shell.execute_reply.started": "2024-12-10T12:28:33.463499Z",
          "shell.execute_reply": "2024-12-10T12:28:33.597083Z"
        },
        "id": "N2W1GJb-ri_Q"
      },
      "outputs": [],
      "execution_count": null
    },
    {
      "cell_type": "code",
      "source": [
        "fig2 = px.box(data, y='humidity',color='equipment', title=\"Humidity Distribution\")\n",
        "filename=\"box.html\"\n",
        "plot(fig2, filename=filename, auto_open=False)\n",
        "display(IFrame(filename, width=800, height=600))"
      ],
      "metadata": {
        "trusted": true,
        "execution": {
          "iopub.status.busy": "2024-12-10T12:28:52.27208Z",
          "iopub.execute_input": "2024-12-10T12:28:52.272464Z",
          "iopub.status.idle": "2024-12-10T12:28:52.448348Z",
          "shell.execute_reply.started": "2024-12-10T12:28:52.27243Z",
          "shell.execute_reply": "2024-12-10T12:28:52.447279Z"
        },
        "id": "-0GW-iK4ri_Q"
      },
      "outputs": [],
      "execution_count": null
    },
    {
      "cell_type": "markdown",
      "source": [
        "## Bivariate Analysis"
      ],
      "metadata": {
        "id": "ebCXn_Ylri_R"
      }
    },
    {
      "cell_type": "code",
      "source": [
        "fig3 = px.scatter(data, x=\"temperature\", y=\"pressure\", color=\"faulty\", title=\"Temperature vs Pressure\")\n",
        "filename=\"scatter1.html\"\n",
        "plot(fig3, filename=filename, auto_open=False)\n",
        "display(IFrame(filename, width=800, height=600))"
      ],
      "metadata": {
        "trusted": true,
        "execution": {
          "iopub.status.busy": "2024-12-10T12:29:13.712526Z",
          "iopub.execute_input": "2024-12-10T12:29:13.712889Z",
          "iopub.status.idle": "2024-12-10T12:29:13.838124Z",
          "shell.execute_reply.started": "2024-12-10T12:29:13.712858Z",
          "shell.execute_reply": "2024-12-10T12:29:13.836977Z"
        },
        "id": "ya8AuQvdri_R"
      },
      "outputs": [],
      "execution_count": null
    },
    {
      "cell_type": "code",
      "source": [
        "data.columns"
      ],
      "metadata": {
        "trusted": true,
        "execution": {
          "iopub.status.busy": "2024-12-10T12:29:15.056991Z",
          "iopub.execute_input": "2024-12-10T12:29:15.057375Z",
          "iopub.status.idle": "2024-12-10T12:29:15.06456Z",
          "shell.execute_reply.started": "2024-12-10T12:29:15.057342Z",
          "shell.execute_reply": "2024-12-10T12:29:15.063447Z"
        },
        "id": "W3HUtpcJri_R"
      },
      "outputs": [],
      "execution_count": null
    },
    {
      "cell_type": "code",
      "source": [
        "corr_matrix = data.drop(['city', 'latitude', 'longitude', 'equipment','location'],axis=1).corr()\n",
        "fig4 = px.imshow(corr_matrix, text_auto=True, title=\"Correlation Heatmap\")\n",
        "filename=\"corr.html\"\n",
        "plot(fig4, filename=filename, auto_open=False)\n",
        "display(IFrame(filename, width=800, height=800))"
      ],
      "metadata": {
        "trusted": true,
        "execution": {
          "iopub.status.busy": "2024-12-10T12:29:40.034571Z",
          "iopub.execute_input": "2024-12-10T12:29:40.034946Z",
          "iopub.status.idle": "2024-12-10T12:29:40.109865Z",
          "shell.execute_reply.started": "2024-12-10T12:29:40.034913Z",
          "shell.execute_reply": "2024-12-10T12:29:40.108614Z"
        },
        "id": "jCqoCL7kri_S"
      },
      "outputs": [],
      "execution_count": null
    },
    {
      "cell_type": "markdown",
      "source": [
        "<div align=\"center\" style=\"background-color: #FFE3E3; padding: 20px; border-radius: 10px;\">\n",
        "  <h1 style=\"color: #091057;\">Data Preprocessing</h1>\n",
        "\n",
        "</div>"
      ],
      "metadata": {
        "id": "EKjKr-MOri_S"
      }
    },
    {
      "cell_type": "code",
      "source": [
        "label_encoder = LabelEncoder()\n",
        "data['equipment'] = label_encoder.fit_transform(data['equipment'])\n",
        "data['location'] = label_encoder.fit_transform(data['location'])"
      ],
      "metadata": {
        "trusted": true,
        "execution": {
          "iopub.status.busy": "2024-12-10T12:30:07.796064Z",
          "iopub.execute_input": "2024-12-10T12:30:07.79678Z",
          "iopub.status.idle": "2024-12-10T12:30:07.80623Z",
          "shell.execute_reply.started": "2024-12-10T12:30:07.796741Z",
          "shell.execute_reply": "2024-12-10T12:30:07.804842Z"
        },
        "id": "ZSNadSJiri_S"
      },
      "outputs": [],
      "execution_count": null
    },
    {
      "cell_type": "code",
      "source": [
        "data.head()"
      ],
      "metadata": {
        "trusted": true,
        "execution": {
          "iopub.status.busy": "2024-12-10T12:30:08.033783Z",
          "iopub.execute_input": "2024-12-10T12:30:08.034188Z",
          "iopub.status.idle": "2024-12-10T12:30:08.049859Z",
          "shell.execute_reply.started": "2024-12-10T12:30:08.034153Z",
          "shell.execute_reply": "2024-12-10T12:30:08.048786Z"
        },
        "id": "G9B1j3zrri_S"
      },
      "outputs": [],
      "execution_count": null
    },
    {
      "cell_type": "code",
      "source": [
        "scaler = StandardScaler()\n",
        "numerical_cols = ['temperature', 'pressure', 'vibration', 'humidity']\n",
        "data[numerical_cols] = scaler.fit_transform(data[numerical_cols])"
      ],
      "metadata": {
        "trusted": true,
        "execution": {
          "iopub.status.busy": "2024-12-10T12:30:08.425229Z",
          "iopub.execute_input": "2024-12-10T12:30:08.425686Z",
          "iopub.status.idle": "2024-12-10T12:30:08.437493Z",
          "shell.execute_reply.started": "2024-12-10T12:30:08.425649Z",
          "shell.execute_reply": "2024-12-10T12:30:08.436418Z"
        },
        "id": "XKrs3U-ari_S"
      },
      "outputs": [],
      "execution_count": null
    },
    {
      "cell_type": "code",
      "source": [
        "data.head()"
      ],
      "metadata": {
        "trusted": true,
        "execution": {
          "iopub.status.busy": "2024-12-10T12:30:11.351717Z",
          "iopub.execute_input": "2024-12-10T12:30:11.35216Z",
          "iopub.status.idle": "2024-12-10T12:30:11.368181Z",
          "shell.execute_reply.started": "2024-12-10T12:30:11.352124Z",
          "shell.execute_reply": "2024-12-10T12:30:11.367079Z"
        },
        "id": "HKxOH_AQri_S"
      },
      "outputs": [],
      "execution_count": null
    },
    {
      "cell_type": "markdown",
      "source": [
        "<div align=\"center\" style=\"background-color: #FFD7C4; padding: 20px; border-radius: 10px;\">\n",
        "  <h1 style=\"color: #001F3F;\">Model</h1>\n",
        "\n",
        "</div>"
      ],
      "metadata": {
        "id": "lTi3evV_ri_S"
      }
    },
    {
      "cell_type": "code",
      "source": [
        "X = data.drop(columns=[\"faulty\",'city'])\n",
        "y = data[\"faulty\"]\n",
        "X_train, X_test, y_train, y_test = train_test_split(X, y, test_size=0.2, random_state=42)"
      ],
      "metadata": {
        "trusted": true,
        "execution": {
          "iopub.status.busy": "2024-12-10T12:30:13.538787Z",
          "iopub.execute_input": "2024-12-10T12:30:13.539212Z",
          "iopub.status.idle": "2024-12-10T12:30:13.551657Z",
          "shell.execute_reply.started": "2024-12-10T12:30:13.539176Z",
          "shell.execute_reply": "2024-12-10T12:30:13.550522Z"
        },
        "id": "t4em5FwGri_S"
      },
      "outputs": [],
      "execution_count": null
    },
    {
      "cell_type": "code",
      "source": [
        "clf = RandomForestClassifier(random_state=42)\n",
        "clf.fit(X_train, y_train)"
      ],
      "metadata": {
        "trusted": true,
        "execution": {
          "iopub.status.busy": "2024-12-10T12:30:13.836718Z",
          "iopub.execute_input": "2024-12-10T12:30:13.8371Z",
          "iopub.status.idle": "2024-12-10T12:30:14.944735Z",
          "shell.execute_reply.started": "2024-12-10T12:30:13.837068Z",
          "shell.execute_reply": "2024-12-10T12:30:14.943589Z"
        },
        "id": "BTJYCoteri_T"
      },
      "outputs": [],
      "execution_count": null
    },
    {
      "cell_type": "code",
      "source": [
        "y_pred = clf.predict(X_test)\n",
        "print(classification_report(y_test, y_pred))"
      ],
      "metadata": {
        "trusted": true,
        "execution": {
          "iopub.status.busy": "2024-12-10T12:30:14.946663Z",
          "iopub.execute_input": "2024-12-10T12:30:14.947082Z",
          "iopub.status.idle": "2024-12-10T12:30:14.993259Z",
          "shell.execute_reply.started": "2024-12-10T12:30:14.94704Z",
          "shell.execute_reply": "2024-12-10T12:30:14.99185Z"
        },
        "id": "6ngPARKuri_T"
      },
      "outputs": [],
      "execution_count": null
    },
    {
      "cell_type": "code",
      "source": [
        "cm = confusion_matrix(y_test, y_pred)\n",
        "fig5 = go.Figure(data=go.Heatmap(\n",
        "    z=cm,\n",
        "    x=[\"Predicted 0\", \"Predicted 1\"],\n",
        "    y=[\"Actual 0\", \"Actual 1\"],\n",
        "    colorscale='Viridis',\n",
        "    text=np.round(cm, 2),\n",
        "    hoverinfo=\"z\"\n",
        "))\n",
        "fig5.update_traces(\n",
        "    texttemplate=\"%{text}\",\n",
        "    textfont={\"size\": 12},\n",
        "    showscale=True\n",
        ")\n",
        "\n",
        "fig5.update_layout(\n",
        "    title=\"Confusion Matrix Heatmap\",\n",
        "    xaxis_title=\"Predicted Label\",\n",
        "    yaxis_title=\"True Label\",\n",
        "    autosize=True)\n",
        "filename = \"cm.html\"\n",
        "plot(fig5, filename=filename, auto_open=False)\n",
        "IFrame(filename, width=800, height=600)"
      ],
      "metadata": {
        "trusted": true,
        "execution": {
          "iopub.status.busy": "2024-12-10T12:45:49.499705Z",
          "iopub.execute_input": "2024-12-10T12:45:49.500138Z",
          "iopub.status.idle": "2024-12-10T12:45:49.595822Z",
          "shell.execute_reply.started": "2024-12-10T12:45:49.500102Z",
          "shell.execute_reply": "2024-12-10T12:45:49.594717Z"
        },
        "id": "hw_J4Lopri_T"
      },
      "outputs": [],
      "execution_count": null
    },
    {
      "cell_type": "markdown",
      "source": [
        "## Clustering"
      ],
      "metadata": {
        "id": "NesHpUfzri_T"
      }
    },
    {
      "cell_type": "code",
      "source": [
        "kmeans = KMeans(n_clusters=2, random_state=42)\n",
        "clusters = kmeans.fit_predict(X)\n",
        "feature_x = 'temperature'\n",
        "feature_y = 'pressure'\n",
        "fig7 = px.scatter(\n",
        "    X,\n",
        "    x=feature_x,\n",
        "    y=feature_y,\n",
        "    color=clusters.astype(str),\n",
        "    title=f\"KMeans Clustering ({feature_x} vs {feature_y})\",\n",
        "    labels={feature_x: feature_x.capitalize(), feature_y: feature_y.capitalize()}\n",
        ")\n",
        "filename = \"clust_no_pca.html\"\n",
        "plot(fig7, filename=filename, auto_open=False)\n",
        "IFrame(filename, width=800, height=600)"
      ],
      "metadata": {
        "trusted": true,
        "execution": {
          "iopub.status.busy": "2024-12-10T12:34:25.028777Z",
          "iopub.execute_input": "2024-12-10T12:34:25.029234Z",
          "iopub.status.idle": "2024-12-10T12:34:25.777414Z",
          "shell.execute_reply.started": "2024-12-10T12:34:25.029195Z",
          "shell.execute_reply": "2024-12-10T12:34:25.77632Z"
        },
        "id": "TnbI1DXGri_T"
      },
      "outputs": [],
      "execution_count": null
    },
    {
      "cell_type": "markdown",
      "source": [
        "## Anomaly Detection"
      ],
      "metadata": {
        "id": "WnTDa2WKri_T"
      }
    },
    {
      "cell_type": "code",
      "source": [
        "iso_forest = IsolationForest(contamination=0.1, random_state=42)\n",
        "data[\"anomaly\"] = iso_forest.fit_predict(X)\n",
        "fig8 = px.scatter(data, x=\"temperature\", y=\"pressure\", color=\"anomaly\", title=\"Anomaly Detection\")\n",
        "filename=\"ano.html\"\n",
        "plot(fig8, filename=filename, auto_open=False)\n",
        "display(IFrame(filename, width=800, height=600))"
      ],
      "metadata": {
        "trusted": true,
        "execution": {
          "iopub.status.busy": "2024-12-10T12:34:46.191537Z",
          "iopub.execute_input": "2024-12-10T12:34:46.192136Z",
          "iopub.status.idle": "2024-12-10T12:34:47.027208Z",
          "shell.execute_reply.started": "2024-12-10T12:34:46.192084Z",
          "shell.execute_reply": "2024-12-10T12:34:47.026125Z"
        },
        "id": "L9yMwSt2ri_T"
      },
      "outputs": [],
      "execution_count": null
    },
    {
      "cell_type": "code",
      "source": [
        "model = Sequential([\n",
        "    Input(shape=(X_train.shape[1],)),\n",
        "    Dense(32, activation='relu'),\n",
        "    Dense(16, activation='relu'),\n",
        "    Dense(1, activation='sigmoid')\n",
        "])\n",
        "model.compile(optimizer='adam', loss='binary_crossentropy', metrics=['accuracy'])\n",
        "history = model.fit(X_train, y_train, validation_split=0.2, epochs=50, batch_size=16, verbose=1)\n",
        "loss, accuracy = model.evaluate(X_test, y_test)"
      ],
      "metadata": {
        "trusted": true,
        "execution": {
          "iopub.status.busy": "2024-12-10T12:37:08.901496Z",
          "iopub.execute_input": "2024-12-10T12:37:08.902192Z",
          "iopub.status.idle": "2024-12-10T12:37:38.780403Z",
          "shell.execute_reply.started": "2024-12-10T12:37:08.902153Z",
          "shell.execute_reply": "2024-12-10T12:37:38.779512Z"
        },
        "id": "hpk1UAJYri_T"
      },
      "outputs": [],
      "execution_count": null
    },
    {
      "cell_type": "code",
      "source": [
        "print(f\"Test Accuracy: {accuracy}\")"
      ],
      "metadata": {
        "trusted": true,
        "execution": {
          "iopub.status.busy": "2024-12-10T12:37:47.380238Z",
          "iopub.execute_input": "2024-12-10T12:37:47.380658Z",
          "iopub.status.idle": "2024-12-10T12:37:47.386346Z",
          "shell.execute_reply.started": "2024-12-10T12:37:47.380619Z",
          "shell.execute_reply": "2024-12-10T12:37:47.384903Z"
        },
        "id": "98EmDlIvri_U"
      },
      "outputs": [],
      "execution_count": null
    },
    {
      "cell_type": "code",
      "source": [
        "fig10 = go.Figure()\n",
        "fig10.add_trace(go.Scatter(y=history.history['accuracy'], mode='lines', name='Training Accuracy'))\n",
        "fig10.add_trace(go.Scatter(y=history.history['val_accuracy'], mode='lines', name='Validation Accuracy'))\n",
        "fig10.update_layout(title=\"Model Accuracy Over Epochs\", xaxis_title=\"Epochs\", yaxis_title=\"Accuracy\")\n",
        "filename=\"ann.html\"\n",
        "plot(fig10, filename=filename, auto_open=False)\n",
        "display(IFrame(filename, width=800, height=600))"
      ],
      "metadata": {
        "trusted": true,
        "execution": {
          "iopub.status.busy": "2024-12-10T12:37:49.30734Z",
          "iopub.execute_input": "2024-12-10T12:37:49.307851Z",
          "iopub.status.idle": "2024-12-10T12:37:49.391487Z",
          "shell.execute_reply.started": "2024-12-10T12:37:49.30781Z",
          "shell.execute_reply": "2024-12-10T12:37:49.390274Z"
        },
        "id": "MzIQ3pviri_U"
      },
      "outputs": [],
      "execution_count": null
    },
    {
      "cell_type": "markdown",
      "source": [
        "<div align=\"center\" style=\"background-color: #C4E1F6; padding: 20px; border-radius: 10px;\">\n",
        "  <h1 style=\"color: blue;\">Thank You 🙇‍♂️ for Visiting My Notebook!</h1>\n",
        "\n",
        "  <p style=\"font-size: 18px; color: black;\">\n",
        "    If you found this content valuable, please consider giving it a upvote <span style=\"color: blue;\">👍</span>.\n",
        "    <br>Your support is greatly appreciated and motivates me to continue developing more valuable and informative notebooks\n",
        "  </p>\n",
        "</div>\n"
      ],
      "metadata": {
        "id": "6pFbS-2Wri_U"
      }
    }
  ]
}